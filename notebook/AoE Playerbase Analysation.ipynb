{
 "cells": [
  {
   "cell_type": "code",
   "execution_count": 9,
   "id": "47a2a481",
   "metadata": {},
   "outputs": [],
   "source": [
    "import pandas as pd\n",
    "\n",
    "df = pd.read_parquet(\"../data/dataframe.br.parq\", engine=\"pyarrow\")"
   ]
  },
  {
   "cell_type": "code",
   "execution_count": 43,
   "id": "23c06191",
   "metadata": {},
   "outputs": [
    {
     "data": {
      "text/plain": [
       "timestamp                   game  leaderboard   \n",
       "2022-01-30 00:42:39.365196  aoe2  ew                  1811\n",
       "                                  rm                 39921\n",
       "                                  team_ew             2448\n",
       "                                  team_rm            65078\n",
       "                                  unranked          172525\n",
       "                            aoe3  deathmatch            23\n",
       "                                  supremacy_1v1       2970\n",
       "                                  supremacy_team      2860\n",
       "                                  treaty               610\n",
       "                            aoe4  custom            131803\n",
       "                                  qm_1v1             44004\n",
       "                                  qm_2v2             57195\n",
       "                                  qm_3v3             53090\n",
       "                                  qm_4v4             44968\n",
       "dtype: int64"
      ]
     },
     "execution_count": 43,
     "metadata": {},
     "output_type": "execute_result"
    }
   ],
   "source": [
    "# 30d based data\n",
    "df.groupby(\n",
    "            [\"timestamp\", \"game\", \"leaderboard\"]\n",
    "        ).size().tail(14)"
   ]
  },
  {
   "cell_type": "code",
   "execution_count": 47,
   "id": "2e6a3716",
   "metadata": {},
   "outputs": [
    {
     "data": {
      "text/plain": [
       "Index(['timestamp', 'game', 'leaderboard', 'steam_id', 'profile_id', 'rank',\n",
       "       'rating', 'highest_rating', 'previous_rating', 'country_code', 'name',\n",
       "       'known_name', 'num_games', 'streak', 'num_wins', 'win_percent',\n",
       "       'rating24h', 'games24h', 'wins24h', 'last_match'],\n",
       "      dtype='object')"
      ]
     },
     "execution_count": 47,
     "metadata": {},
     "output_type": "execute_result"
    }
   ],
   "source": [
    "df.columns"
   ]
  },
  {
   "cell_type": "code",
   "execution_count": 46,
   "id": "0289feae",
   "metadata": {
    "scrolled": false
   },
   "outputs": [
    {
     "data": {
      "text/plain": [
       "(2478280, 20)"
      ]
     },
     "execution_count": 46,
     "metadata": {},
     "output_type": "execute_result"
    }
   ],
   "source": [
    "# DF size\n",
    "df.shape"
   ]
  },
  {
   "cell_type": "code",
   "execution_count": 53,
   "id": "6de9c375",
   "metadata": {},
   "outputs": [
    {
     "data": {
      "text/plain": [
       "timestamp                   country_code\n",
       "2022-01-27 22:17:09.156189  DE              41794\n",
       "                            US              41712\n",
       "                            FR              19161\n",
       "                            CN              19085\n",
       "                            AR              17797\n",
       "                                            ...  \n",
       "2022-01-30 00:42:39.365196  CW                  1\n",
       "                            CC                  1\n",
       "                            BB                  1\n",
       "                            GA                  1\n",
       "                            AS                  1\n",
       "Length: 792, dtype: int64"
      ]
     },
     "execution_count": 53,
     "metadata": {},
     "output_type": "execute_result"
    }
   ],
   "source": [
    "df[['timestamp','country_code']].groupby([\"timestamp\"]).value_counts()"
   ]
  },
  {
   "cell_type": "code",
   "execution_count": null,
   "id": "bdc06fcf",
   "metadata": {},
   "outputs": [],
   "source": []
  },
  {
   "cell_type": "code",
   "execution_count": null,
   "id": "36648fe2",
   "metadata": {},
   "outputs": [],
   "source": []
  },
  {
   "cell_type": "code",
   "execution_count": null,
   "id": "d1826faa",
   "metadata": {},
   "outputs": [],
   "source": []
  }
 ],
 "metadata": {
  "kernelspec": {
   "display_name": "Python 3 (ipykernel)",
   "language": "python",
   "name": "python3"
  },
  "language_info": {
   "codemirror_mode": {
    "name": "ipython",
    "version": 3
   },
   "file_extension": ".py",
   "mimetype": "text/x-python",
   "name": "python",
   "nbconvert_exporter": "python",
   "pygments_lexer": "ipython3",
   "version": "3.10.2"
  }
 },
 "nbformat": 4,
 "nbformat_minor": 5
}
