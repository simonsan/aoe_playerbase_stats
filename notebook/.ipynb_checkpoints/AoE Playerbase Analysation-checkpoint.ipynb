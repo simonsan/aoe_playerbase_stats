{
 "cells": [
  {
   "cell_type": "code",
   "execution_count": 9,
   "id": "6ecf276a",
   "metadata": {},
   "outputs": [],
   "source": [
    "import pandas as pd\n",
    "\n",
    "df = pd.read_parquet(\"../data/dataframe.br.parq\", engine=\"pyarrow\")"
   ]
  },
  {
   "cell_type": "code",
   "execution_count": 43,
   "id": "8aa28439",
   "metadata": {},
   "outputs": [
    {
     "data": {
      "text/plain": [
       "timestamp                   game  leaderboard   \n",
       "2022-01-30 00:42:39.365196  aoe2  ew                  1811\n",
       "                                  rm                 39921\n",
       "                                  team_ew             2448\n",
       "                                  team_rm            65078\n",
       "                                  unranked          172525\n",
       "                            aoe3  deathmatch            23\n",
       "                                  supremacy_1v1       2970\n",
       "                                  supremacy_team      2860\n",
       "                                  treaty               610\n",
       "                            aoe4  custom            131803\n",
       "                                  qm_1v1             44004\n",
       "                                  qm_2v2             57195\n",
       "                                  qm_3v3             53090\n",
       "                                  qm_4v4             44968\n",
       "dtype: int64"
      ]
     },
     "execution_count": 43,
     "metadata": {},
     "output_type": "execute_result"
    }
   ],
   "source": [
    "# 30d based data\n",
    "df.groupby(\n",
    "            [\"timestamp\", \"game\", \"leaderboard\"]\n",
    "        ).size().tail(14)"
   ]
  },
  {
   "cell_type": "code",
   "execution_count": 46,
   "id": "d907e2e9",
   "metadata": {
    "scrolled": false
   },
   "outputs": [
    {
     "data": {
      "text/plain": [
       "(2478280, 20)"
      ]
     },
     "execution_count": 46,
     "metadata": {},
     "output_type": "execute_result"
    }
   ],
   "source": [
    "# DF size\n",
    "df.shape"
   ]
  },
  {
   "cell_type": "code",
   "execution_count": 35,
   "id": "1491bf04",
   "metadata": {},
   "outputs": [
    {
     "data": {
      "text/plain": [
       "Timestamp('2022-01-27 13:56:09')"
      ]
     },
     "execution_count": 35,
     "metadata": {},
     "output_type": "execute_result"
    }
   ],
   "source": [
    "df.iloc[0, 19]"
   ]
  },
  {
   "cell_type": "code",
   "execution_count": null,
   "id": "680e0b2d",
   "metadata": {},
   "outputs": [],
   "source": []
  },
  {
   "cell_type": "code",
   "execution_count": null,
   "id": "62440ec8",
   "metadata": {},
   "outputs": [],
   "source": []
  },
  {
   "cell_type": "code",
   "execution_count": null,
   "id": "016f9024",
   "metadata": {},
   "outputs": [],
   "source": []
  }
 ],
 "metadata": {
  "kernelspec": {
   "display_name": "Python 3 (ipykernel)",
   "language": "python",
   "name": "python3"
  },
  "language_info": {
   "codemirror_mode": {
    "name": "ipython",
    "version": 3
   },
   "file_extension": ".py",
   "mimetype": "text/x-python",
   "name": "python",
   "nbconvert_exporter": "python",
   "pygments_lexer": "ipython3",
   "version": "3.10.2"
  }
 },
 "nbformat": 4,
 "nbformat_minor": 5
}
